{
  "nbformat": 4,
  "nbformat_minor": 0,
  "metadata": {
    "colab": {
      "provenance": []
    },
    "kernelspec": {
      "name": "python3",
      "display_name": "Python 3"
    },
    "language_info": {
      "name": "python"
    }
  },
  "cells": [
    {
      "cell_type": "code",
      "execution_count": 3,
      "metadata": {
        "colab": {
          "base_uri": "https://localhost:8080/",
          "height": 0
        },
        "id": "H3_orrX_oKAH",
        "outputId": "725dfb8c-3793-420b-b84f-9fea579d8430"
      },
      "outputs": [
        {
          "output_type": "stream",
          "name": "stdout",
          "text": [
            "Enter your percentage: 90\n",
            "Your grade is: B\n"
          ]
        }
      ],
      "source": [
        "percentage = float(input(\"Enter your percentage: \"))\n",
        "\n",
        "if percentage > 90:\n",
        "    grade = \"A\"\n",
        "elif percentage > 80:\n",
        "    grade = \"B\"\n",
        "elif percentage >= 60:\n",
        "    grade = \"C\"\n",
        "else:\n",
        "    grade = \"D\"\n",
        "\n",
        "print(\"Your grade is:\", grade)"
      ]
    },
    {
      "cell_type": "code",
      "source": [
        "def calculate_road_tax(cost_price):\n",
        "  if cost_price > 100000:\n",
        "    tax_rate = 0.15\n",
        "  elif cost_price > 50000:\n",
        "    tax_rate = 0.1\n",
        "  else:\n",
        "    tax_rate = 0.05\n",
        "\n",
        "  road_tax = cost_price * tax_rate\n",
        "  return road_tax\n",
        "\n",
        "# Get the cost price of the bike from the user\n",
        "cost_price = float(input(\"Enter the cost price of the bike: \"))\n",
        "\n",
        "# Calculate the road tax\n",
        "road_tax = calculate_road_tax(cost_price)\n",
        "\n",
        "# Print the road tax\n",
        "print(\"The road tax to be paid is Rs.\", road_tax)"
      ],
      "metadata": {
        "colab": {
          "base_uri": "https://localhost:8080/",
          "height": 0
        },
        "id": "vaHnSuFAoKx6",
        "outputId": "8a827670-95e2-4393-c128-e31c4feff61d"
      },
      "execution_count": 4,
      "outputs": [
        {
          "output_type": "stream",
          "name": "stdout",
          "text": [
            "Enter the cost price of the bike: 1000000\n",
            "The road tax to be paid is Rs. 150000.0\n"
          ]
        }
      ]
    },
    {
      "cell_type": "code",
      "source": [
        "def display_monuments(city):\n",
        "    \"\"\"\n",
        "    This function returns the monument of a given city.\n",
        "    \"\"\"\n",
        "    monuments = {\n",
        "        \"Delhi\": \"Red Fort\",\n",
        "        \"Agra\": \"Taj Mahal\",\n",
        "        \"Jaipur\": \"Jal Mahal\",\n",
        "    }\n",
        "    if city in monuments:\n",
        "        return monuments[city]\n",
        "    else:\n",
        "        return \"City not found\"\n",
        "\n",
        "# Example usage:\n",
        "city_to_search = \"Agra\"\n",
        "result = display_monuments(city_to_search)\n",
        "\n",
        "if result != \"City not found\":\n",
        "    print(f\"The monument in {city_to_search} is {result}.\")\n",
        "else:\n",
        "    print(result)\n"
      ],
      "metadata": {
        "colab": {
          "base_uri": "https://localhost:8080/",
          "height": 0
        },
        "id": "kJvod9eroMxC",
        "outputId": "12d038f6-212e-4c5f-a5ac-6d4d7a55f0af"
      },
      "execution_count": 6,
      "outputs": [
        {
          "output_type": "stream",
          "name": "stdout",
          "text": [
            "The monument in Agra is Taj Mahal.\n"
          ]
        }
      ]
    },
    {
      "cell_type": "code",
      "source": [
        "def divide_by_3(number):\n",
        "    \"\"\"\n",
        "    This function checks how many times a number can be divided by 3 before it is less than or equal to 10.\n",
        "    \"\"\"\n",
        "    count = 0\n",
        "    while number > 0 and number % 3 == 0:\n",
        "        number //= 3\n",
        "        count += 1\n",
        "    return count\n",
        "\n",
        "# Example usage:\n",
        "result = divide_by_3(81)\n",
        "print(result)"
      ],
      "metadata": {
        "colab": {
          "base_uri": "https://localhost:8080/",
          "height": 0
        },
        "id": "MvvYG4CQpqmP",
        "outputId": "ac49caba-c188-47d8-8a17-9b73739706bf"
      },
      "execution_count": 8,
      "outputs": [
        {
          "output_type": "stream",
          "name": "stdout",
          "text": [
            "4\n"
          ]
        }
      ]
    },
    {
      "cell_type": "code",
      "source": [
        "def print_pattern():\n",
        "    \"\"\"\n",
        "    This function uses a nested while loop to print a pattern.\n",
        "    \"\"\"\n",
        "    for i in range(1, 4):\n",
        "        for j in range(i):\n",
        "            print(\"*\", end=\"\")\n",
        "        print()\n",
        "\n",
        "# Example usage:\n",
        "print_pattern()"
      ],
      "metadata": {
        "colab": {
          "base_uri": "https://localhost:8080/",
          "height": 0
        },
        "id": "o4SiIhjkp6gD",
        "outputId": "956db996-021e-408f-9e12-b89a0a112ccc"
      },
      "execution_count": 11,
      "outputs": [
        {
          "output_type": "stream",
          "name": "stdout",
          "text": [
            "*\n",
            "**\n",
            "***\n"
          ]
        }
      ]
    },
    {
      "cell_type": "code",
      "source": [
        "def reverse_numbers():\n",
        "    \"\"\"\n",
        "    This function uses a for loop to display numbers from 10 to 1 in reverse order.\n",
        "    \"\"\"\n",
        "    for num in range(10, 0, -1):\n",
        "        print(num)\n",
        "\n",
        "# Example usage:\n",
        "reverse_numbers()"
      ],
      "metadata": {
        "colab": {
          "base_uri": "https://localhost:8080/",
          "height": 0
        },
        "id": "xWIUZOgrquk3",
        "outputId": "49c24ac4-409e-49fa-c04c-980e594b97db"
      },
      "execution_count": 13,
      "outputs": [
        {
          "output_type": "stream",
          "name": "stdout",
          "text": [
            "10\n",
            "9\n",
            "8\n",
            "7\n",
            "6\n",
            "5\n",
            "4\n",
            "3\n",
            "2\n",
            "1\n"
          ]
        }
      ]
    },
    {
      "cell_type": "code",
      "source": [
        "def reverse_numbers():\n",
        "    \"\"\"\n",
        "    This function reverses a while loop to display numbers from 10 to 1.\n",
        "    \"\"\"\n",
        "    num = 10\n",
        "    while num > 0:\n",
        "        print(num)\n",
        "        num -= 1\n",
        "\n",
        "# Example usage:\n",
        "reverse_numbers()"
      ],
      "metadata": {
        "colab": {
          "base_uri": "https://localhost:8080/",
          "height": 0
        },
        "id": "AKoLqjBEqNvX",
        "outputId": "6eb329c8-86c7-4a69-94d7-01a78f48e98d"
      },
      "execution_count": 12,
      "outputs": [
        {
          "output_type": "stream",
          "name": "stdout",
          "text": [
            "10\n",
            "9\n",
            "8\n",
            "7\n",
            "6\n",
            "5\n",
            "4\n",
            "3\n",
            "2\n",
            "1\n"
          ]
        }
      ]
    }
  ]
}